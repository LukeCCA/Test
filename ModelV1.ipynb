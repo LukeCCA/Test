{
 "cells": [
  {
   "cell_type": "code",
   "execution_count": 1,
   "metadata": {
    "scrolled": true
   },
   "outputs": [],
   "source": [
    "import pandas as pd\n",
    "import numpy as np\n",
    "import torch\n",
    "import torch.backends.cudnn as cudnn\n",
    "import torch.optim as optim\n",
    "import torch.utils.data as Data\n",
    "import lmdb\n",
    "\n",
    "from torch.autograd import Variable\n",
    "from warpctc_pytorch import CTCLoss\n",
    "import sys\n",
    "\n",
    "from torch.utils.data import Dataset\n",
    "import torchvision.transforms as transforms\n",
    "import six\n",
    "import sys\n",
    "from PIL import Image"
   ]
  },
  {
   "cell_type": "code",
   "execution_count": 2,
   "metadata": {},
   "outputs": [],
   "source": [
    "sys.path.insert(1,'./Test/')"
   ]
  },
  {
   "cell_type": "code",
   "execution_count": 3,
   "metadata": {},
   "outputs": [],
   "source": [
    "import models.crnn as crnn\n",
    "import dataset\n",
    "import utils"
   ]
  },
  {
   "cell_type": "code",
   "execution_count": 4,
   "metadata": {},
   "outputs": [],
   "source": [
    "batchSize = 64"
   ]
  },
  {
   "cell_type": "code",
   "execution_count": 5,
   "metadata": {},
   "outputs": [],
   "source": [
    "outputPath ='/image/.Eric/lmdb_train'"
   ]
  },
  {
   "cell_type": "code",
   "execution_count": 6,
   "metadata": {},
   "outputs": [],
   "source": [
    "train_dataset = dataset.lmdbDataset(root=outputPath)"
   ]
  },
  {
   "cell_type": "code",
   "execution_count": 7,
   "metadata": {},
   "outputs": [],
   "source": [
    "train_loader = torch.utils.data.DataLoader(train_dataset, batch_size=batchSize,shuffle=True,num_workers=4,\n",
    "                                           collate_fn=dataset.alignCollate(imgH=32, imgW=320))"
   ]
  },
  {
   "cell_type": "code",
   "execution_count": 8,
   "metadata": {},
   "outputs": [],
   "source": [
    "alphabet = '零壹貳參肆伍陸柒捌玖拾佰仟萬億兆元整'"
   ]
  },
  {
   "cell_type": "code",
   "execution_count": 9,
   "metadata": {},
   "outputs": [],
   "source": [
    "nclass = len(alphabet) + 1\n",
    "nc = 1\n",
    "criterion = CTCLoss()"
   ]
  },
  {
   "cell_type": "code",
   "execution_count": 10,
   "metadata": {},
   "outputs": [],
   "source": [
    "converter = utils.strLabelConverter(alphabet)\n",
    "criterion = CTCLoss()"
   ]
  },
  {
   "cell_type": "code",
   "execution_count": 11,
   "metadata": {},
   "outputs": [],
   "source": [
    "model = crnn.CRNN(32, 1, 19, 256)\n",
    "model = model.cuda()\n",
    "model.load_state_dict(torch.load(\"./Test/data/crnnV1.pkl\"))"
   ]
  },
  {
   "cell_type": "code",
   "execution_count": 12,
   "metadata": {},
   "outputs": [],
   "source": [
    "image = torch.FloatTensor(batchSize, 1, 32, 32)\n",
    "text = torch.IntTensor(batchSize * 5)\n",
    "length = torch.IntTensor(batchSize)"
   ]
  },
  {
   "cell_type": "code",
   "execution_count": 13,
   "metadata": {},
   "outputs": [],
   "source": [
    "model = torch.nn.DataParallel(model)\n",
    "image = image.cuda()\n",
    "criterion = criterion.cuda()"
   ]
  },
  {
   "cell_type": "code",
   "execution_count": 14,
   "metadata": {},
   "outputs": [],
   "source": [
    "image = Variable(image)\n",
    "text = Variable(text)\n",
    "length = Variable(length)"
   ]
  },
  {
   "cell_type": "code",
   "execution_count": 15,
   "metadata": {},
   "outputs": [],
   "source": [
    "# loss averager\n",
    "loss_avg = utils.averager()"
   ]
  },
  {
   "cell_type": "code",
   "execution_count": 16,
   "metadata": {},
   "outputs": [],
   "source": [
    "optimizer = optim.Adam(model.parameters(), lr=0.01126,betas=(0.01, 0.999))"
   ]
  },
  {
   "cell_type": "code",
   "execution_count": 40,
   "metadata": {},
   "outputs": [],
   "source": [
    "def trainBatch(net, criterion, optimizer):\n",
    "    data = train_iter.next()\n",
    "    cpu_images, cpu_texts = data\n",
    "    batch_size = cpu_images.size(0)\n",
    "    utils.loadData(image, cpu_images)\n",
    "    t, l = converter.encode(cpu_texts)\n",
    "    utils.loadData(text, t)\n",
    "    utils.loadData(length, l)\n",
    "\n",
    "    preds = model(image)\n",
    "    preds_size = Variable(torch.IntTensor([preds.size(0)] * batch_size))\n",
    "    cost = criterion(preds, text, preds_size, length) / batch_size\n",
    "    model.zero_grad()\n",
    "    cost.backward()\n",
    "    optimizer.step()\n",
    "    return cost"
   ]
  },
  {
   "cell_type": "code",
   "execution_count": 41,
   "metadata": {},
   "outputs": [
    {
     "name": "stdout",
     "output_type": "stream",
     "text": [
      "[iteration0/10][10/66] Loss: 536.871826\n",
      "[iteration0/10][20/66] Loss: 224.750885\n",
      "[iteration0/10][30/66] Loss: 119.379799\n",
      "[iteration0/10][40/66] Loss: 98.599136\n",
      "[iteration0/10][50/66] Loss: 140.716614\n",
      "[iteration0/10][60/66] Loss: 87.206322\n",
      "[iteration1/10][10/66] Loss: 73.583549\n",
      "[iteration1/10][20/66] Loss: 69.220596\n",
      "[iteration1/10][30/66] Loss: 62.676178\n",
      "[iteration1/10][40/66] Loss: 62.416626\n",
      "[iteration1/10][50/66] Loss: 59.654400\n",
      "[iteration1/10][60/66] Loss: 55.787224\n",
      "[iteration2/10][10/66] Loss: 55.591343\n",
      "[iteration2/10][20/66] Loss: 51.742989\n",
      "[iteration2/10][30/66] Loss: 51.204010\n",
      "[iteration2/10][40/66] Loss: 49.588894\n",
      "[iteration2/10][50/66] Loss: 48.655857\n",
      "[iteration2/10][60/66] Loss: 47.228687\n",
      "[iteration3/10][10/66] Loss: 45.347446\n",
      "[iteration3/10][20/66] Loss: 44.837746\n",
      "[iteration3/10][30/66] Loss: 45.071877\n",
      "[iteration3/10][40/66] Loss: 43.688950\n",
      "[iteration3/10][50/66] Loss: 42.680870\n",
      "[iteration3/10][60/66] Loss: 40.689514\n",
      "[iteration4/10][10/66] Loss: 40.363163\n",
      "[iteration4/10][20/66] Loss: 39.551456\n",
      "[iteration4/10][30/66] Loss: 38.482552\n",
      "[iteration4/10][40/66] Loss: 38.442101\n",
      "[iteration4/10][50/66] Loss: 37.837181\n",
      "[iteration4/10][60/66] Loss: 37.014996\n",
      "[iteration5/10][10/66] Loss: 36.106216\n",
      "[iteration5/10][20/66] Loss: 36.070805\n",
      "[iteration5/10][30/66] Loss: 36.263695\n",
      "[iteration5/10][40/66] Loss: 34.805412\n",
      "[iteration5/10][50/66] Loss: 34.113468\n",
      "[iteration5/10][60/66] Loss: 33.841969\n",
      "[iteration6/10][10/66] Loss: 33.803440\n",
      "[iteration6/10][20/66] Loss: 33.187492\n",
      "[iteration6/10][30/66] Loss: 32.883163\n",
      "[iteration6/10][40/66] Loss: 32.389626\n",
      "[iteration6/10][50/66] Loss: 31.979603\n",
      "[iteration6/10][60/66] Loss: 33.457172\n",
      "[iteration7/10][10/66] Loss: 31.192162\n",
      "[iteration7/10][20/66] Loss: 31.191349\n",
      "[iteration7/10][30/66] Loss: 30.192051\n",
      "[iteration7/10][40/66] Loss: 31.004467\n",
      "[iteration7/10][50/66] Loss: 30.758612\n",
      "[iteration7/10][60/66] Loss: 29.575489\n",
      "[iteration8/10][10/66] Loss: 29.836962\n",
      "[iteration8/10][20/66] Loss: 29.574774\n",
      "[iteration8/10][30/66] Loss: 29.655741\n",
      "[iteration8/10][40/66] Loss: 28.485184\n",
      "[iteration8/10][50/66] Loss: 28.209946\n",
      "[iteration8/10][60/66] Loss: 28.966562\n",
      "[iteration9/10][10/66] Loss: 28.183556\n",
      "[iteration9/10][20/66] Loss: 29.239834\n",
      "[iteration9/10][30/66] Loss: 27.546524\n",
      "[iteration9/10][40/66] Loss: 27.970657\n",
      "[iteration9/10][50/66] Loss: 26.766018\n",
      "[iteration9/10][60/66] Loss: 28.770594\n"
     ]
    }
   ],
   "source": [
    "for epoch in range(10):\n",
    "    train_iter = iter(train_loader)\n",
    "    i = 0\n",
    "    while i < len(train_loader):\n",
    "        for p in model.parameters():\n",
    "            p.requires_grad = True\n",
    "        model.train()\n",
    "        cost = trainBatch(model, criterion, optimizer)\n",
    "        loss_avg.add(cost)\n",
    "        \n",
    "        i += 1\n",
    "\n",
    "        if i % 10 == 0:\n",
    "            print('[iteration%d/%d][%d/%d] Loss: %f' %\n",
    "                  (epoch, 10, i, len(train_loader), loss_avg.val() ))\n",
    "            loss_avg.reset()"
   ]
  },
  {
   "cell_type": "code",
   "execution_count": 44,
   "metadata": {},
   "outputs": [],
   "source": [
    "torch.save(model.module.state_dict(), './Test/data/crnnV2.pkl')"
   ]
  },
  {
   "cell_type": "code",
   "execution_count": 52,
   "metadata": {},
   "outputs": [
    {
     "ename": "AttributeError",
     "evalue": "'int' object has no attribute 'numel'",
     "output_type": "error",
     "traceback": [
      "\u001b[0;31m---------------------------------------------------------------------------\u001b[0m",
      "\u001b[0;31mAttributeError\u001b[0m                            Traceback (most recent call last)",
      "\u001b[0;32m<ipython-input-52-5cd4e2f97f99>\u001b[0m in \u001b[0;36m<module>\u001b[0;34m()\u001b[0m\n\u001b[0;32m----> 1\u001b[0;31m \u001b[0mconverter\u001b[0m\u001b[0;34m.\u001b[0m\u001b[0mdecode\u001b[0m\u001b[0;34m(\u001b[0m\u001b[0moutput\u001b[0m\u001b[0;34m,\u001b[0m\u001b[0mlen\u001b[0m\u001b[0;34m(\u001b[0m\u001b[0moutput\u001b[0m\u001b[0;34m)\u001b[0m\u001b[0;34m)\u001b[0m\u001b[0;34m\u001b[0m\u001b[0m\n\u001b[0m",
      "\u001b[0;32m/image/.Eric/Test/utils.py\u001b[0m in \u001b[0;36mdecode\u001b[0;34m(self, t, length, raw)\u001b[0m\n\u001b[1;32m     65\u001b[0m             \u001b[0mtext\u001b[0m \u001b[0;34m(\u001b[0m\u001b[0mstr\u001b[0m \u001b[0;32mor\u001b[0m \u001b[0mlist\u001b[0m \u001b[0mof\u001b[0m \u001b[0mstr\u001b[0m\u001b[0;34m)\u001b[0m\u001b[0;34m:\u001b[0m \u001b[0mtexts\u001b[0m \u001b[0mto\u001b[0m \u001b[0mconvert\u001b[0m\u001b[0;34m.\u001b[0m\u001b[0;34m\u001b[0m\u001b[0m\n\u001b[1;32m     66\u001b[0m         \"\"\"\n\u001b[0;32m---> 67\u001b[0;31m         \u001b[0;32mif\u001b[0m \u001b[0mlength\u001b[0m\u001b[0;34m.\u001b[0m\u001b[0mnumel\u001b[0m\u001b[0;34m(\u001b[0m\u001b[0;34m)\u001b[0m \u001b[0;34m==\u001b[0m \u001b[0;36m1\u001b[0m\u001b[0;34m:\u001b[0m\u001b[0;34m\u001b[0m\u001b[0m\n\u001b[0m\u001b[1;32m     68\u001b[0m             \u001b[0mlength\u001b[0m \u001b[0;34m=\u001b[0m \u001b[0mlength\u001b[0m\u001b[0;34m[\u001b[0m\u001b[0;36m0\u001b[0m\u001b[0;34m]\u001b[0m\u001b[0;34m\u001b[0m\u001b[0m\n\u001b[1;32m     69\u001b[0m             \u001b[0;32massert\u001b[0m \u001b[0mt\u001b[0m\u001b[0;34m.\u001b[0m\u001b[0mnumel\u001b[0m\u001b[0;34m(\u001b[0m\u001b[0;34m)\u001b[0m \u001b[0;34m==\u001b[0m \u001b[0mlength\u001b[0m\u001b[0;34m,\u001b[0m \u001b[0;34m\"text with length: {} does not match declared length: {}\"\u001b[0m\u001b[0;34m.\u001b[0m\u001b[0mformat\u001b[0m\u001b[0;34m(\u001b[0m\u001b[0mt\u001b[0m\u001b[0;34m.\u001b[0m\u001b[0mnumel\u001b[0m\u001b[0;34m(\u001b[0m\u001b[0;34m)\u001b[0m\u001b[0;34m,\u001b[0m \u001b[0mlength\u001b[0m\u001b[0;34m)\u001b[0m\u001b[0;34m\u001b[0m\u001b[0m\n",
      "\u001b[0;31mAttributeError\u001b[0m: 'int' object has no attribute 'numel'"
     ]
    }
   ],
   "source": [
    "converter.decode(output,len(output))"
   ]
  },
  {
   "cell_type": "code",
   "execution_count": 51,
   "metadata": {},
   "outputs": [
    {
     "data": {
      "text/plain": [
       "81"
      ]
     },
     "execution_count": 51,
     "metadata": {},
     "output_type": "execute_result"
    }
   ],
   "source": [
    "len(output)"
   ]
  },
  {
   "cell_type": "code",
   "execution_count": 50,
   "metadata": {},
   "outputs": [],
   "source": [
    "output = [ 0,  0,  0,  0,  0,  0,  0,  0,  0,  0,  0,  0,  0,  0,  0,  0,  0,  0,\n",
    "         0,  8,  5, 11,  0,  0,  0,  0,  0,  0,  0,  0,  0,  0,  6,  0,  0,  0,\n",
    "         0,  0,  0,  0,  0,  0,  0,  0,  0,  0,  0,  0,  0,  0,  0,  0,  0,  0,\n",
    "         0,  0,  0,  0,  0,  0,  0,  0,  0,  0,  0,  0,  0,  0,  0,  0,  0,  0,\n",
    "         0,  0,  0,  0,  0,  0, 17, 17, 18]"
   ]
  },
  {
   "cell_type": "code",
   "execution_count": 53,
   "metadata": {},
   "outputs": [
    {
     "data": {
      "text/plain": [
       "{'零': 1,\n",
       " '壹': 2,\n",
       " '貳': 3,\n",
       " '參': 4,\n",
       " '肆': 5,\n",
       " '伍': 6,\n",
       " '陸': 7,\n",
       " '柒': 8,\n",
       " '捌': 9,\n",
       " '玖': 10,\n",
       " '拾': 11,\n",
       " '佰': 12,\n",
       " '仟': 13,\n",
       " '萬': 14,\n",
       " '億': 15,\n",
       " '兆': 16,\n",
       " '元': 17,\n",
       " '整': 18}"
      ]
     },
     "execution_count": 53,
     "metadata": {},
     "output_type": "execute_result"
    }
   ],
   "source": [
    "converter.dict          740元整"
   ]
  },
  {
   "cell_type": "code",
   "execution_count": null,
   "metadata": {},
   "outputs": [],
   "source": [
    "'零壹貳參肆伍陸柒捌玖拾佰仟萬億兆元整'"
   ]
  }
 ],
 "metadata": {
  "kernelspec": {
   "display_name": "Python [conda env:pytorch_p36]",
   "language": "python",
   "name": "conda-env-pytorch_p36-py"
  },
  "language_info": {
   "codemirror_mode": {
    "name": "ipython",
    "version": 3
   },
   "file_extension": ".py",
   "mimetype": "text/x-python",
   "name": "python",
   "nbconvert_exporter": "python",
   "pygments_lexer": "ipython3",
   "version": "3.6.6"
  }
 },
 "nbformat": 4,
 "nbformat_minor": 2
}
