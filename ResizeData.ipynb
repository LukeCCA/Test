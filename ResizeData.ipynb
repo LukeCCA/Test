{
 "cells": [
  {
   "cell_type": "code",
   "execution_count": 1,
   "metadata": {},
   "outputs": [],
   "source": [
    "import cv2\n",
    "import pandas as pd\n",
    "import numpy as np\n",
    "from matplotlib import pyplot as plt"
   ]
  },
  {
   "cell_type": "code",
   "execution_count": 2,
   "metadata": {},
   "outputs": [],
   "source": [
    "df = pd.read_pickle('../datamartV1.pkl')"
   ]
  },
  {
   "cell_type": "code",
   "execution_count": null,
   "metadata": {},
   "outputs": [],
   "source": [
    "import numpy as np\n",
    "import pandas as pd\n",
    "\n",
    "def num_to_hw(num):\n",
    "    all_input = num_to_list(num)\n",
    "    \n",
    "    part1, part2, part3 = all_input[0:4], all_input[4:8], all_input[8:12]\n",
    "    unit1, unit2, unit3 = ['仟', '佰', '拾', ''], ['仟', '佰', '拾', ''], ['仟', '佰', '拾', '']\n",
    "    result1, result2, result3 = judge(part1, unit1), judge(part2, unit2), judge(part3, unit3)\n",
    "    \n",
    "    if result1 != ['']: result1 = result1 + ['億']\n",
    "    if result2 != ['']: result2 = result2 + ['萬']\n",
    "    \n",
    "    hw_dict = {0: '零', 1: '壹', 2: '貳', 3: '參', 4: '肆', \n",
    "               5: '伍', 6: '陸', 7: '柒', 8: '捌', 9: '玖'\n",
    "              }\n",
    "    hand_writing =  [hw_dict.get(item, item) for item in (result1)] + \\\n",
    "                    [hw_dict.get(item, item) for item in (result2)] + \\\n",
    "                    [hw_dict.get(item, item) for item in (result3)] + ['元整']\n",
    "    \n",
    "    return ''.join(hand_writing)\n",
    "\n",
    "def num_to_list(num):\n",
    "    all_input = np.zeros(12, dtype=int)\n",
    "    \n",
    "    i = 1\n",
    "    while i <= 12:\n",
    "        p = num / 10\n",
    "        s = str(p)[::-1][0:1]   \n",
    "        all_input[i-1] = s\n",
    "        \n",
    "        num = int(p)\n",
    "        i = i + 1\n",
    "    \n",
    "    all_input = all_input[::-1]\n",
    "    return all_input\n",
    "\n",
    "def judge(num_arr, unit_arr):\n",
    "    res = []\n",
    "    # 特殊狀況1：全部是0\n",
    "    if(num_arr.sum() == 0):\n",
    "        res = ['']\n",
    "    \n",
    "    # 特殊狀況2：中間兩位數為0，且頭尾不為0\n",
    "    elif((num_arr[1:3].sum() == 0) & (num_arr[0]>0) & (num_arr[3]>0)):\n",
    "        res = res + [num_arr[0], unit_arr[0], 0, num_arr[3], unit_arr[3]]\n",
    "    \n",
    "    # 一般狀況\n",
    "    else:   \n",
    "        res = [i for pair in zip(num_arr.tolist(), unit_arr) for i in pair if(pair[0] != 0)]\n",
    "\n",
    "    return res\n",
    "\n",
    "# test = num_to_hw(2154683)\n",
    "# test"
   ]
  },
  {
   "cell_type": "code",
   "execution_count": null,
   "metadata": {},
   "outputs": [],
   "source": [
    "df['Amount_hw'] = df.Amount.apply(lambda x : num_to_hw(x))"
   ]
  },
  {
   "cell_type": "code",
   "execution_count": null,
   "metadata": {},
   "outputs": [],
   "source": [
    "cv2.resize(df.image[0],(100,16)).shape"
   ]
  },
  {
   "cell_type": "code",
   "execution_count": null,
   "metadata": {},
   "outputs": [],
   "source": [
    "df['image_Small'] = df.image.apply(lambda x : cv2.resize(x,(320,32),cv2.INTER_AREA))"
   ]
  },
  {
   "cell_type": "code",
   "execution_count": null,
   "metadata": {},
   "outputs": [],
   "source": [
    "df.head()"
   ]
  },
  {
   "cell_type": "code",
   "execution_count": 13,
   "metadata": {},
   "outputs": [],
   "source": [
    "df.to_pickle('../datamartV1.pkl')"
   ]
  },
  {
   "cell_type": "code",
   "execution_count": null,
   "metadata": {},
   "outputs": [],
   "source": [
    "plt.imshow(df.image_Small[0])"
   ]
  },
  {
   "cell_type": "code",
   "execution_count": null,
   "metadata": {
    "scrolled": true
   },
   "outputs": [],
   "source": [
    "cv2.resize(df.image[0],(100,16)).shape"
   ]
  },
  {
   "cell_type": "code",
   "execution_count": 3,
   "metadata": {},
   "outputs": [
    {
     "data": {
      "text/html": [
       "<div>\n",
       "<style scoped>\n",
       "    .dataframe tbody tr th:only-of-type {\n",
       "        vertical-align: middle;\n",
       "    }\n",
       "\n",
       "    .dataframe tbody tr th {\n",
       "        vertical-align: top;\n",
       "    }\n",
       "\n",
       "    .dataframe thead th {\n",
       "        text-align: right;\n",
       "    }\n",
       "</style>\n",
       "<table border=\"1\" class=\"dataframe\">\n",
       "  <thead>\n",
       "    <tr style=\"text-align: right;\">\n",
       "      <th></th>\n",
       "      <th>root</th>\n",
       "      <th>Amount</th>\n",
       "      <th>image</th>\n",
       "      <th>Amount_hw</th>\n",
       "      <th>image_Small</th>\n",
       "    </tr>\n",
       "  </thead>\n",
       "  <tbody>\n",
       "    <tr>\n",
       "      <th>0</th>\n",
       "      <td>/image/data/GF10244160490032.jpg</td>\n",
       "      <td>16000</td>\n",
       "      <td>[[0.7254901960784313, 0.7176470588235294, 0.70...</td>\n",
       "      <td>壹萬陸仟元整</td>\n",
       "      <td>[[0.7205575980392156, 0.6301623774509804, 0.62...</td>\n",
       "    </tr>\n",
       "    <tr>\n",
       "      <th>1</th>\n",
       "      <td>/image/data/GF11241974690049.jpg</td>\n",
       "      <td>2468</td>\n",
       "      <td>[[0.5254901960784314, 0.49411764705882355, 0.5...</td>\n",
       "      <td>貳仟肆佰陸拾捌元整</td>\n",
       "      <td>[[0.6123468137254902, 0.8616268382352941, 0.73...</td>\n",
       "    </tr>\n",
       "    <tr>\n",
       "      <th>2</th>\n",
       "      <td>/image/data/GF11012970590053.jpg</td>\n",
       "      <td>9545</td>\n",
       "      <td>[[0.7294117647058823, 0.7058823529411765, 0.66...</td>\n",
       "      <td>玖仟伍佰肆拾伍元整</td>\n",
       "      <td>[[0.6418504901960784, 0.8431066176470589, 0.70...</td>\n",
       "    </tr>\n",
       "    <tr>\n",
       "      <th>3</th>\n",
       "      <td>/image/data/GF10336156190068.jpg</td>\n",
       "      <td>16870</td>\n",
       "      <td>[[0.8470588235294118, 0.8470588235294118, 0.82...</td>\n",
       "      <td>壹萬陸仟捌佰柒拾元整</td>\n",
       "      <td>[[0.5708026960784315, 0.7798253676470588, 0.66...</td>\n",
       "    </tr>\n",
       "    <tr>\n",
       "      <th>4</th>\n",
       "      <td>/image/data/GF11366206090092.jpg</td>\n",
       "      <td>9000</td>\n",
       "      <td>[[0.9019607843137255, 0.9647058823529412, 0.93...</td>\n",
       "      <td>玖仟元整</td>\n",
       "      <td>[[0.8944087009803922, 0.8486366421568629, 0.85...</td>\n",
       "    </tr>\n",
       "  </tbody>\n",
       "</table>\n",
       "</div>"
      ],
      "text/plain": [
       "                               root  Amount  \\\n",
       "0  /image/data/GF10244160490032.jpg   16000   \n",
       "1  /image/data/GF11241974690049.jpg    2468   \n",
       "2  /image/data/GF11012970590053.jpg    9545   \n",
       "3  /image/data/GF10336156190068.jpg   16870   \n",
       "4  /image/data/GF11366206090092.jpg    9000   \n",
       "\n",
       "                                               image   Amount_hw  \\\n",
       "0  [[0.7254901960784313, 0.7176470588235294, 0.70...      壹萬陸仟元整   \n",
       "1  [[0.5254901960784314, 0.49411764705882355, 0.5...   貳仟肆佰陸拾捌元整   \n",
       "2  [[0.7294117647058823, 0.7058823529411765, 0.66...   玖仟伍佰肆拾伍元整   \n",
       "3  [[0.8470588235294118, 0.8470588235294118, 0.82...  壹萬陸仟捌佰柒拾元整   \n",
       "4  [[0.9019607843137255, 0.9647058823529412, 0.93...        玖仟元整   \n",
       "\n",
       "                                         image_Small  \n",
       "0  [[0.7205575980392156, 0.6301623774509804, 0.62...  \n",
       "1  [[0.6123468137254902, 0.8616268382352941, 0.73...  \n",
       "2  [[0.6418504901960784, 0.8431066176470589, 0.70...  \n",
       "3  [[0.5708026960784315, 0.7798253676470588, 0.66...  \n",
       "4  [[0.8944087009803922, 0.8486366421568629, 0.85...  "
      ]
     },
     "execution_count": 3,
     "metadata": {},
     "output_type": "execute_result"
    }
   ],
   "source": [
    "df.head()"
   ]
  },
  {
   "cell_type": "code",
   "execution_count": 5,
   "metadata": {},
   "outputs": [],
   "source": [
    "df['Count'] = df.Amount_hw.apply(lambda x : len(x))"
   ]
  },
  {
   "cell_type": "code",
   "execution_count": 10,
   "metadata": {},
   "outputs": [],
   "source": [
    "df = df.sort_values('Count')"
   ]
  },
  {
   "cell_type": "code",
   "execution_count": 12,
   "metadata": {},
   "outputs": [
    {
     "data": {
      "text/html": [
       "<div>\n",
       "<style scoped>\n",
       "    .dataframe tbody tr th:only-of-type {\n",
       "        vertical-align: middle;\n",
       "    }\n",
       "\n",
       "    .dataframe tbody tr th {\n",
       "        vertical-align: top;\n",
       "    }\n",
       "\n",
       "    .dataframe thead th {\n",
       "        text-align: right;\n",
       "    }\n",
       "</style>\n",
       "<table border=\"1\" class=\"dataframe\">\n",
       "  <thead>\n",
       "    <tr style=\"text-align: right;\">\n",
       "      <th></th>\n",
       "      <th>root</th>\n",
       "      <th>Amount</th>\n",
       "      <th>image</th>\n",
       "      <th>Amount_hw</th>\n",
       "      <th>image_Small</th>\n",
       "      <th>Count</th>\n",
       "    </tr>\n",
       "  </thead>\n",
       "  <tbody>\n",
       "    <tr>\n",
       "      <th>2535</th>\n",
       "      <td>/image/data/GF10233540190035.jpg</td>\n",
       "      <td>40000</td>\n",
       "      <td>[[0.42745098039215684, 0.6313725490196078, 0.6...</td>\n",
       "      <td>肆萬元整</td>\n",
       "      <td>[[0.6018995098039215, 0.4313725490196079, 0.45...</td>\n",
       "      <td>4</td>\n",
       "    </tr>\n",
       "    <tr>\n",
       "      <th>1552</th>\n",
       "      <td>/image/data/GF11056895780012.jpg</td>\n",
       "      <td>30000</td>\n",
       "      <td>[[0.5019607843137255, 0.6274509803921569, 0.52...</td>\n",
       "      <td>參萬元整</td>\n",
       "      <td>[[0.5431678921568627, 0.8843443627450982, 0.40...</td>\n",
       "      <td>4</td>\n",
       "    </tr>\n",
       "    <tr>\n",
       "      <th>1549</th>\n",
       "      <td>/image/data/GF11078902390027.jpg</td>\n",
       "      <td>40000</td>\n",
       "      <td>[[0.8745098039215686, 0.792156862745098, 0.737...</td>\n",
       "      <td>肆萬元整</td>\n",
       "      <td>[[0.5397977941176471, 0.44159007352941176, 0.6...</td>\n",
       "      <td>4</td>\n",
       "    </tr>\n",
       "    <tr>\n",
       "      <th>1546</th>\n",
       "      <td>/image/data/GF10967811990022.jpg</td>\n",
       "      <td>20000</td>\n",
       "      <td>[[0.592156862745098, 0.4823529411764706, 0.341...</td>\n",
       "      <td>貳萬元整</td>\n",
       "      <td>[[0.29905024509803924, 0.5300704656862746, 0.4...</td>\n",
       "      <td>4</td>\n",
       "    </tr>\n",
       "    <tr>\n",
       "      <th>2928</th>\n",
       "      <td>/image/data/GF10602856180024.jpg</td>\n",
       "      <td>60000</td>\n",
       "      <td>[[0.6823529411764706, 0.5647058823529412, 0.46...</td>\n",
       "      <td>陸萬元整</td>\n",
       "      <td>[[0.6275888480392157, 0.6101102941176471, 0.66...</td>\n",
       "      <td>4</td>\n",
       "    </tr>\n",
       "  </tbody>\n",
       "</table>\n",
       "</div>"
      ],
      "text/plain": [
       "                                  root  Amount  \\\n",
       "2535  /image/data/GF10233540190035.jpg   40000   \n",
       "1552  /image/data/GF11056895780012.jpg   30000   \n",
       "1549  /image/data/GF11078902390027.jpg   40000   \n",
       "1546  /image/data/GF10967811990022.jpg   20000   \n",
       "2928  /image/data/GF10602856180024.jpg   60000   \n",
       "\n",
       "                                                  image Amount_hw  \\\n",
       "2535  [[0.42745098039215684, 0.6313725490196078, 0.6...      肆萬元整   \n",
       "1552  [[0.5019607843137255, 0.6274509803921569, 0.52...      參萬元整   \n",
       "1549  [[0.8745098039215686, 0.792156862745098, 0.737...      肆萬元整   \n",
       "1546  [[0.592156862745098, 0.4823529411764706, 0.341...      貳萬元整   \n",
       "2928  [[0.6823529411764706, 0.5647058823529412, 0.46...      陸萬元整   \n",
       "\n",
       "                                            image_Small  Count  \n",
       "2535  [[0.6018995098039215, 0.4313725490196079, 0.45...      4  \n",
       "1552  [[0.5431678921568627, 0.8843443627450982, 0.40...      4  \n",
       "1549  [[0.5397977941176471, 0.44159007352941176, 0.6...      4  \n",
       "1546  [[0.29905024509803924, 0.5300704656862746, 0.4...      4  \n",
       "2928  [[0.6275888480392157, 0.6101102941176471, 0.66...      4  "
      ]
     },
     "execution_count": 12,
     "metadata": {},
     "output_type": "execute_result"
    }
   ],
   "source": [
    "df.head()"
   ]
  },
  {
   "cell_type": "code",
   "execution_count": 17,
   "metadata": {},
   "outputs": [],
   "source": [
    "for i in range(100):\n",
    "    with open(\"/image/Chen/data/\"+df['root'].values[i][12:-4] + \".txt\",\"w\") as f:\n",
    "        f.write(df['Amount_hw'].values[i])\n",
    "        f.close()"
   ]
  },
  {
   "cell_type": "code",
   "execution_count": null,
   "metadata": {},
   "outputs": [],
   "source": [
    "df['root'].values[0][12:-4] + \".txt\""
   ]
  },
  {
   "cell_type": "code",
   "execution_count": null,
   "metadata": {},
   "outputs": [],
   "source": [
    "df['Amount_hw'].values[0]"
   ]
  },
  {
   "cell_type": "code",
   "execution_count": null,
   "metadata": {},
   "outputs": [],
   "source": [
    "with open(\"./data/\"+df['root'].values[1379][12:-4] + \".txt\",\"w\") as f:\n",
    "    f.write(df['Amount_hw'].values[1379])\n",
    "    f.close()"
   ]
  },
  {
   "cell_type": "code",
   "execution_count": null,
   "metadata": {},
   "outputs": [],
   "source": []
  }
 ],
 "metadata": {
  "kernelspec": {
   "display_name": "Python [conda env:anaconda3]",
   "language": "python",
   "name": "conda-env-anaconda3-py"
  },
  "language_info": {
   "codemirror_mode": {
    "name": "ipython",
    "version": 3
   },
   "file_extension": ".py",
   "mimetype": "text/x-python",
   "name": "python",
   "nbconvert_exporter": "python",
   "pygments_lexer": "ipython3",
   "version": "3.6.4"
  }
 },
 "nbformat": 4,
 "nbformat_minor": 2
}
